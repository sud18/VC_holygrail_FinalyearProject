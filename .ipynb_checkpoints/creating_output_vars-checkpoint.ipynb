{
 "cells": [
  {
   "cell_type": "code",
   "execution_count": 1,
   "metadata": {
    "collapsed": true
   },
   "outputs": [],
   "source": [
    "import pandas as pd"
   ]
  },
  {
   "cell_type": "code",
   "execution_count": 2,
   "metadata": {},
   "outputs": [
    {
     "name": "stderr",
     "output_type": "stream",
     "text": [
      "/anaconda/lib/python3.6/site-packages/IPython/core/interactiveshell.py:2717: DtypeWarning: Columns (5) have mixed types. Specify dtype option on import or set low_memory=False.\n",
      "  interactivity=interactivity, compiler=compiler, result=result)\n"
     ]
    }
   ],
   "source": [
    "df = pd.read_csv('founders_only_clean.csv')"
   ]
  },
  {
   "cell_type": "code",
   "execution_count": 3,
   "metadata": {
    "scrolled": true
   },
   "outputs": [
    {
     "name": "stdout",
     "output_type": "stream",
     "text": [
      "<class 'pandas.core.frame.DataFrame'>\n",
      "Int64Index: 30720 entries, 2 to 39359\n",
      "Data columns (total 35 columns):\n",
      "Full Name                          30720 non-null object\n",
      "Primary Job Title                  30720 non-null object\n",
      "Gender                             30720 non-null object\n",
      "Biography                          21577 non-null object\n",
      "Number of News Articles            16126 non-null object\n",
      "Number of Founded Organizations    30720 non-null int64\n",
      "Number of Portfolio Companies      3071 non-null float64\n",
      "Number of Investments_x            3069 non-null float64\n",
      "Number of Partner Investments      247 non-null float64\n",
      "Number of Lead Investments_x       179 non-null float64\n",
      "Number of Exits_x                  672 non-null float64\n",
      "Number of Events_x                 5642 non-null float64\n",
      "Categories                         29803 non-null object\n",
      "Headquarters Location              30071 non-null object\n",
      "Operating Status                   30720 non-null object\n",
      "Founded Date                       30079 non-null object\n",
      "Closed Date                        474 non-null object\n",
      "Company Type                       25299 non-null object\n",
      "Number of Founders                 30285 non-null object\n",
      "Number of Employees                27047 non-null object\n",
      "Number of Funding Rounds           26014 non-null object\n",
      "Funding Status                     22096 non-null object\n",
      "Last Funding Date                  26049 non-null object\n",
      "Last Funding Amount                21573 non-null object\n",
      "Last Funding Type                  25966 non-null object\n",
      "Last Equity Funding Amount         21207 non-null object\n",
      "Last Equity Funding Type           25353 non-null object\n",
      "Total Equity Funding Amount        22957 non-null object\n",
      "Total Funding Amount               22841 non-null object\n",
      "Number of Lead Investors           15390 non-null float64\n",
      "Number of Investors                22898 non-null object\n",
      "Acquisition Status                 6870 non-null object\n",
      "IPO Status                         29623 non-null object\n",
      "IPO Date                           717 non-null object\n",
      "Number of Events_y                 11340 non-null object\n",
      "dtypes: float64(7), int64(1), object(27)\n",
      "memory usage: 8.4+ MB\n"
     ]
    }
   ],
   "source": [
    "df.info()"
   ]
  },
  {
   "cell_type": "code",
   "execution_count": 4,
   "metadata": {
    "collapsed": true
   },
   "outputs": [],
   "source": [
    "def success_onlyB_check(df):\n",
    "    if df['Last Funding Type'] == 'Series B':\n",
    "        val = 1\n",
    "    else:\n",
    "        val = 0\n",
    "    return val\n",
    "\n",
    "df['Success_onlyB'] = df.apply(success_onlyB_check, axis = 1)"
   ]
  },
  {
   "cell_type": "code",
   "execution_count": 5,
   "metadata": {},
   "outputs": [
    {
     "data": {
      "text/plain": [
       "0    28028\n",
       "1     2692\n",
       "Name: Success_onlyB, dtype: int64"
      ]
     },
     "execution_count": 5,
     "metadata": {},
     "output_type": "execute_result"
    }
   ],
   "source": [
    "df.Success_onlyB.value_counts()"
   ]
  },
  {
   "cell_type": "code",
   "execution_count": 6,
   "metadata": {
    "scrolled": true
   },
   "outputs": [
    {
     "name": "stdout",
     "output_type": "stream",
     "text": [
      "30720\n"
     ]
    },
    {
     "data": {
      "text/plain": [
       "Series A                 372328\n",
       "Seed                     334356\n",
       "Series B                 236896\n",
       "Convertible Note         140800\n",
       "Series C                 117216\n",
       "Debt Financing           108878\n",
       "Private Equity            68684\n",
       "Non-equity Assistance     57750\n",
       "Angel                     52470\n",
       "Series D                  52448\n",
       "Equity Crowdfunding       44935\n",
       "Undisclosed               40656\n",
       "Post-IPO Equity           27225\n",
       "Series E                  21208\n",
       "Secondary Market          17952\n",
       "Product Crowdfunding      17820\n",
       "Grant                     13255\n",
       "Series F                   9592\n",
       "Initial Coin Offering      8778\n",
       "Post-IPO Debt              4862\n",
       "$100,000                   4784\n",
       "$20,000                    4018\n",
       "Series G                   3080\n",
       "$250,000                   2392\n",
       "$25,000                    2378\n",
       "$150,000                   2300\n",
       "$50,000                    2296\n",
       "$40,000                    2214\n",
       "í_ŒŠí«15,000               2159\n",
       "$500,000                   2024\n",
       "                          ...  \n",
       "$580,000                     92\n",
       "$195,000                     92\n",
       "$265,000                     92\n",
       "$220,000                     92\n",
       "$22,000                      82\n",
       "$80,000                      82\n",
       "$24,000                      82\n",
       "A$25,000                     82\n",
       "$65,000                      82\n",
       "$44,999                      82\n",
       "$71,000                      82\n",
       "$32,500                      82\n",
       "$68,000                      82\n",
       "$17,000                      82\n",
       "$59,054                      82\n",
       "$50,500                      82\n",
       "$87,000                      82\n",
       "$12,000                      82\n",
       "$62,500                      82\n",
       "$29,079                      82\n",
       "$60,532                      82\n",
       "$12,500                      82\n",
       "$11,700                      82\n",
       "$38,000                      82\n",
       "$52,000                      82\n",
       "$90,000                      82\n",
       "$77,000                      82\n",
       "$7,000                       72\n",
       "$6,000                       72\n",
       "$3,500                       72\n",
       "Name: Cleaned Stage, Length: 257, dtype: int64"
      ]
     },
     "execution_count": 6,
     "metadata": {},
     "output_type": "execute_result"
    }
   ],
   "source": [
    "count = 0\n",
    "my_list = [] \n",
    "\n",
    "for r,s in df['Last Funding Type'].iteritems():\n",
    "    s = str(s)\n",
    "    for i in '$0123456789':\n",
    "        for st in s:\n",
    "            if i != st and s != 'nan' and s != 'Venture - Series Unknown':\n",
    "                my_list.append(s)\n",
    "    count += 1\n",
    "            \n",
    "print(count)\n",
    "#print(my_list[:100])\n",
    "\n",
    "check_df = pd.DataFrame({\"Cleaned Stage\":my_list})\n",
    "check_df[\"Cleaned Stage\"].value_counts()"
   ]
  },
  {
   "cell_type": "code",
   "execution_count": 7,
   "metadata": {},
   "outputs": [],
   "source": [
    "success_list = ['Series B', 'Series C', 'Series D', 'Private Equity', 'Series E', 'Post-IPO Equity', 'Series F', 'Series G', 'IPO']\n",
    "\n",
    "def success_all_check(df):\n",
    "    if df['Last Funding Type'] == 'Series B' or df['Last Funding Type'] == 'Series C' or df['Last Funding Type'] == 'Series D'\\\n",
    "    or df['Last Funding Type'] == 'Private Equity' or df['Last Funding Type'] == 'Series E' or df['Last Funding Type'] == 'Post-IPO Equity'\\\n",
    "    or df['Last Funding Type'] == 'Series F' or  df['Last Funding Type'] == 'Series G' or df['Last Funding Type'] == 'IPO': \n",
    "        val = 1\n",
    "    else:\n",
    "        val = 0\n",
    "    return val\n",
    "\n",
    "df['Success_all'] = df.apply(success_all_check, axis = 1)    "
   ]
  },
  {
   "cell_type": "code",
   "execution_count": 8,
   "metadata": {},
   "outputs": [
    {
     "data": {
      "text/plain": [
       "0    25104\n",
       "1     5616\n",
       "Name: Success_all, dtype: int64"
      ]
     },
     "execution_count": 8,
     "metadata": {},
     "output_type": "execute_result"
    }
   ],
   "source": [
    "df.Success_all.value_counts()"
   ]
  },
  {
   "cell_type": "code",
   "execution_count": 9,
   "metadata": {
    "scrolled": true
   },
   "outputs": [
    {
     "name": "stdout",
     "output_type": "stream",
     "text": [
      "<class 'pandas.core.frame.DataFrame'>\n",
      "Int64Index: 30720 entries, 2 to 39359\n",
      "Data columns (total 37 columns):\n",
      "Full Name                          30720 non-null object\n",
      "Primary Job Title                  30720 non-null object\n",
      "Gender                             30720 non-null object\n",
      "Biography                          21577 non-null object\n",
      "Number of News Articles            16126 non-null object\n",
      "Number of Founded Organizations    30720 non-null int64\n",
      "Number of Portfolio Companies      3071 non-null float64\n",
      "Number of Investments_x            3069 non-null float64\n",
      "Number of Partner Investments      247 non-null float64\n",
      "Number of Lead Investments_x       179 non-null float64\n",
      "Number of Exits_x                  672 non-null float64\n",
      "Number of Events_x                 5642 non-null float64\n",
      "Categories                         29803 non-null object\n",
      "Headquarters Location              30071 non-null object\n",
      "Operating Status                   30720 non-null object\n",
      "Founded Date                       30079 non-null object\n",
      "Closed Date                        474 non-null object\n",
      "Company Type                       25299 non-null object\n",
      "Number of Founders                 30285 non-null object\n",
      "Number of Employees                27047 non-null object\n",
      "Number of Funding Rounds           26014 non-null object\n",
      "Funding Status                     22096 non-null object\n",
      "Last Funding Date                  26049 non-null object\n",
      "Last Funding Amount                21573 non-null object\n",
      "Last Funding Type                  25966 non-null object\n",
      "Last Equity Funding Amount         21207 non-null object\n",
      "Last Equity Funding Type           25353 non-null object\n",
      "Total Equity Funding Amount        22957 non-null object\n",
      "Total Funding Amount               22841 non-null object\n",
      "Number of Lead Investors           15390 non-null float64\n",
      "Number of Investors                22898 non-null object\n",
      "Acquisition Status                 6870 non-null object\n",
      "IPO Status                         29623 non-null object\n",
      "IPO Date                           717 non-null object\n",
      "Number of Events_y                 11340 non-null object\n",
      "Success_onlyB                      30720 non-null int64\n",
      "Success_all                        30720 non-null int64\n",
      "dtypes: float64(7), int64(3), object(27)\n",
      "memory usage: 8.9+ MB\n"
     ]
    }
   ],
   "source": [
    "df.info()"
   ]
  },
  {
   "cell_type": "code",
   "execution_count": 10,
   "metadata": {},
   "outputs": [],
   "source": [
    "df_nonan = df[pd.notnull(df['Last Funding Type'])]"
   ]
  },
  {
   "cell_type": "code",
   "execution_count": 11,
   "metadata": {
    "scrolled": true
   },
   "outputs": [
    {
     "name": "stdout",
     "output_type": "stream",
     "text": [
      "<class 'pandas.core.frame.DataFrame'>\n",
      "Int64Index: 25966 entries, 2 to 39359\n",
      "Data columns (total 37 columns):\n",
      "Full Name                          25966 non-null object\n",
      "Primary Job Title                  25966 non-null object\n",
      "Gender                             25966 non-null object\n",
      "Biography                          18603 non-null object\n",
      "Number of News Articles            14033 non-null object\n",
      "Number of Founded Organizations    25966 non-null int64\n",
      "Number of Portfolio Companies      2615 non-null float64\n",
      "Number of Investments_x            2615 non-null float64\n",
      "Number of Partner Investments      204 non-null float64\n",
      "Number of Lead Investments_x       135 non-null float64\n",
      "Number of Exits_x                  562 non-null float64\n",
      "Number of Events_x                 4840 non-null float64\n",
      "Categories                         25469 non-null object\n",
      "Headquarters Location              25741 non-null object\n",
      "Operating Status                   25966 non-null object\n",
      "Founded Date                       25594 non-null object\n",
      "Closed Date                        442 non-null object\n",
      "Company Type                       21802 non-null object\n",
      "Number of Founders                 25658 non-null object\n",
      "Number of Employees                23402 non-null object\n",
      "Number of Funding Rounds           25873 non-null object\n",
      "Funding Status                     21350 non-null object\n",
      "Last Funding Date                  25960 non-null object\n",
      "Last Funding Amount                21368 non-null object\n",
      "Last Funding Type                  25966 non-null object\n",
      "Last Equity Funding Amount         21087 non-null object\n",
      "Last Equity Funding Type           25298 non-null object\n",
      "Total Equity Funding Amount        22807 non-null object\n",
      "Total Funding Amount               22818 non-null object\n",
      "Number of Lead Investors           15245 non-null float64\n",
      "Number of Investors                22822 non-null object\n",
      "Acquisition Status                 5789 non-null object\n",
      "IPO Status                         25169 non-null object\n",
      "IPO Date                           608 non-null object\n",
      "Number of Events_y                 9947 non-null object\n",
      "Success_onlyB                      25966 non-null int64\n",
      "Success_all                        25966 non-null int64\n",
      "dtypes: float64(7), int64(3), object(27)\n",
      "memory usage: 7.5+ MB\n"
     ]
    }
   ],
   "source": [
    "df_nonan.info()"
   ]
  },
  {
   "cell_type": "code",
   "execution_count": 16,
   "metadata": {
    "scrolled": true
   },
   "outputs": [
    {
     "data": {
      "text/plain": [
       "258"
      ]
     },
     "execution_count": 16,
     "metadata": {},
     "output_type": "execute_result"
    }
   ],
   "source": [
    "len(df_nonan['Last Funding Type'].value_counts())"
   ]
  },
  {
   "cell_type": "code",
   "execution_count": null,
   "metadata": {},
   "outputs": [],
   "source": [
    "def check_num(df_nonan):\n",
    "    for row in df_nonan['Last Funding Type'].astype(str):\n",
    "        for s in '0123456789$':\n",
    "            if s in row:\n",
    "                print(row)\n",
    "                val = 1\n",
    "            else:\n",
    "                val = 0\n",
    "            return val\n",
    "        \n",
    "df_nonan['has_num'] = df_nonan.apply(check_num, axis = 1)"
   ]
  },
  {
   "cell_type": "code",
   "execution_count": null,
   "metadata": {
    "collapsed": true
   },
   "outputs": [],
   "source": [
    "print(4)"
   ]
  },
  {
   "cell_type": "code",
   "execution_count": 17,
   "metadata": {},
   "outputs": [
    {
     "name": "stdout",
     "output_type": "stream",
     "text": [
      "2804\n"
     ]
    }
   ],
   "source": [
    "count = 0\n",
    "\n",
    "for row in df_nonan['Last Funding Type'].astype(str):\n",
    "    for s in '0123456789$':\n",
    "        if s in row:\n",
    "            count += 1"
   ]
  },
  {
   "cell_type": "code",
   "execution_count": null,
   "metadata": {
    "collapsed": true
   },
   "outputs": [],
   "source": []
  }
 ],
 "metadata": {
  "kernelspec": {
   "display_name": "Python 3",
   "language": "python",
   "name": "python3"
  },
  "language_info": {
   "codemirror_mode": {
    "name": "ipython",
    "version": 3
   },
   "file_extension": ".py",
   "mimetype": "text/x-python",
   "name": "python",
   "nbconvert_exporter": "python",
   "pygments_lexer": "ipython3",
   "version": "3.6.1"
  }
 },
 "nbformat": 4,
 "nbformat_minor": 2
}
